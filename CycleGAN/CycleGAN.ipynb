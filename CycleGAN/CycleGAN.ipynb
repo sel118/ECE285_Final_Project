{
 "cells": [
  {
   "cell_type": "markdown",
   "metadata": {
    "colab_type": "text",
    "id": "view-in-github"
   },
   "source": [
    "<a href=\"https://colab.research.google.com/github/bkkaggle/pytorch-CycleGAN-and-pix2pix/blob/master/CycleGAN.ipynb\" target=\"_parent\"><img src=\"https://colab.research.google.com/assets/colab-badge.svg\" alt=\"Open In Colab\"/></a>"
   ]
  },
  {
   "cell_type": "code",
   "execution_count": null,
   "metadata": {
    "colab": {},
    "colab_type": "code",
    "id": "z1EySlOXwwoa"
   },
   "outputs": [],
   "source": [
    "!pip install -r requirements.txt --user"
   ]
  },
  {
   "cell_type": "markdown",
   "metadata": {
    "colab_type": "text",
    "id": "yFw1kDQBx3LN"
   },
   "source": [
    "# Training\n",
    "\n",
    "This line can be adjusted to train the necessary model. Simply change the field --name \"your_model_name\". Train with the correct dataset that corresponds to the artist of choice. Pretrained models are provided for testing so no training is required."
   ]
  },
  {
   "cell_type": "code",
   "execution_count": null,
   "metadata": {
    "colab": {},
    "colab_type": "code",
    "id": "0sp7TCT2x9dB"
   },
   "outputs": [],
   "source": [
    "!python train.py --dataroot ./datasets/monet2photo --name monet_cycle_gan --model cycle_gan --batch_size=4 --save_epoch_freq=1 --lr=0.0006"
   ]
  },
  {
   "cell_type": "markdown",
   "metadata": {
    "colab_type": "text",
    "id": "9UkcaFZiyASl"
   },
   "source": [
    "# Testing\n",
    "\n",
    "The following test calls are required to generate the images that are plotted below."
   ]
  },
  {
   "cell_type": "code",
   "execution_count": null,
   "metadata": {
    "colab": {},
    "colab_type": "code",
    "id": "uCsKkEq0yGh0"
   },
   "outputs": [],
   "source": [
    "!python test.py --dataroot datasets/monet2photo --name monet_cycle_gan --model cycle_gan --no_dropout --num_test 1000"
   ]
  },
  {
   "cell_type": "code",
   "execution_count": null,
   "metadata": {},
   "outputs": [],
   "source": [
    "!python test.py --dataroot datasets/monet2photo/testB --name monet_forward --model test --no_dropout --num_test 1000"
   ]
  },
  {
   "cell_type": "code",
   "execution_count": null,
   "metadata": {},
   "outputs": [],
   "source": [
    "!python test.py --dataroot datasets/vangogh2photo/testB --name vangogh_forward --model test --no_dropout --num_test 1000"
   ]
  },
  {
   "cell_type": "code",
   "execution_count": null,
   "metadata": {},
   "outputs": [],
   "source": [
    "!python test.py --dataroot datasets/cezanne2photo/testB --name cezanne_forward --model test --no_dropout --num_test 1000"
   ]
  },
  {
   "cell_type": "code",
   "execution_count": null,
   "metadata": {},
   "outputs": [],
   "source": [
    "!python test.py --dataroot datasets/ukiyoe2photo/testB --name ukiyoe_forward  --model test --no_dropout --num_test 1000"
   ]
  },
  {
   "cell_type": "markdown",
   "metadata": {
    "colab_type": "text",
    "id": "OzSKIPUByfiN"
   },
   "source": [
    "# Visualize"
   ]
  },
  {
   "cell_type": "code",
   "execution_count": null,
   "metadata": {},
   "outputs": [],
   "source": [
    "import matplotlib.pyplot as plt\n",
    "img_orig = plt.imread('./datasets/monet2photo/testB/2014-08-01 17:41:55.jpg')\n",
    "img_monet = plt.imread('./results/monet_forward/test_latest/2014-08-01 17:41:55_fake.png')\n",
    "img_vangogh = plt.imread('./results/vangogh_forward/test_latest/2014-08-01 17:41:55_fake.png')\n",
    "img_cezanne = plt.imread('./results/cezanne_forward/test_latest/2014-08-01 17:41:55_fake.png')\n",
    "img_ukiyoe = plt.imread('./results/ukiyoe_forward/test_latest/2014-08-01 17:41:55_fake.png')\n",
    "\n",
    "plt.subplot(5,5,1)\n",
    "plt.imshow(img_orig)\n",
    "plt.gca().set_title('input')\n",
    "plt.subplot(5,5,2)\n",
    "plt.imshow(img_monet)\n",
    "plt.gca().set_title('Monet')\n",
    "plt.subplot(5,5,3)\n",
    "plt.imshow(img_vangogh)\n",
    "plt.gca().set_title('Van Gogh')\n",
    "plt.subplot(5,5,4)\n",
    "plt.imshow(img_cezanne)\n",
    "plt.gca().set_title('Cezanne')\n",
    "plt.subplot(5,5,5)\n",
    "plt.imshow(img_ukiyoe)\n",
    "plt.gca().set_title('Ukiyoe')\n",
    "plt.gcf().set_size_inches(15,15)\n",
    "\n",
    "\n",
    "\n",
    "img_orig = plt.imread('./datasets/monet2photo/testB/2014-08-04 20:20:12.jpg')\n",
    "img_monet = plt.imread('./results/monet_forward/test_latest/2014-08-04 20:20:12_fake.png')\n",
    "img_vangogh = plt.imread('./results/vangogh_forward/test_latest/2014-08-04 20:20:12_fake.png')\n",
    "img_cezanne = plt.imread('./results/cezanne_forward/test_latest/2014-08-04 20:20:12_fake.png')\n",
    "img_ukiyoe = plt.imread('./results/ukiyoe/test_latest/2014-08-04 20:20:12_fake.png')\n",
    "\n",
    "plt.subplot(5,5,6)\n",
    "plt.imshow(img_orig)\n",
    "plt.subplot(5,5,7)\n",
    "plt.imshow(img_monet)\n",
    "plt.subplot(5,5,8)\n",
    "plt.imshow(img_vangogh)\n",
    "plt.subplot(5,5,9)\n",
    "plt.imshow(img_cezanne)\n",
    "plt.subplot(5,5,10)\n",
    "plt.imshow(img_ukiyoe)\n",
    "\n",
    "\n",
    "\n",
    "img_orig = plt.imread('./datasets/monet2photo/testB/2014-08-19 08:48:20.jpg')\n",
    "img_monet = plt.imread('./results/monet_forward/test_latest/2014-08-19 08:48:20_fake.png')\n",
    "img_vangogh = plt.imread('./results/vangogh_forward/test_latest/2014-08-19 08:48:20_fake.png')\n",
    "img_cezanne = plt.imread('./results/cezanne_forward/test_latest/2014-08-19 08:48:20_fake.png')\n",
    "img_ukiyoe = plt.imread('./results/ukiyoe_forward/test_latest/2014-08-19 08:48:20_fake.png')\n",
    "\n",
    "plt.subplot(5,5,11)\n",
    "plt.imshow(img_orig)\n",
    "plt.subplot(5,5,12)\n",
    "plt.imshow(img_monet)\n",
    "plt.subplot(5,5,13)\n",
    "plt.imshow(img_vangogh)\n",
    "plt.subplot(5,5,14)\n",
    "plt.imshow(img_cezanne)\n",
    "plt.subplot(5,5,15)\n",
    "plt.imshow(img_ukiyoe)\n",
    "\n",
    "\n",
    "\n",
    "\n",
    "img_orig = plt.imread('./datasets/monet2photo/testB/2014-12-21 22:11:41.jpg')\n",
    "img_monet = plt.imread('./results/monet_forward/test_latest/2014-12-21 22:11:41_fake.png')\n",
    "img_vangogh = plt.imread('./results/vangogh_forward/test_latest/2014-12-21 22:11:41_fake.png')\n",
    "img_cezanne = plt.imread('./results/cezanne_forward/test_latest/2014-12-21 22:11:41_fake.png')\n",
    "img_ukiyoe = plt.imread('./results/ukiyoe_forward/test_latest/2014-12-21 22:11:41_fake.png')\n",
    "\n",
    "plt.subplot(5,5,16)\n",
    "plt.imshow(img_orig)\n",
    "plt.subplot(5,5,17)\n",
    "plt.imshow(img_monet)\n",
    "plt.subplot(5,5,18)\n",
    "plt.imshow(img_vangogh)\n",
    "plt.subplot(5,5,19)\n",
    "plt.imshow(img_cezanne)\n",
    "plt.subplot(5,5,20)\n",
    "plt.imshow(img_ukiyoe)\n",
    "\n",
    "\n",
    "\n",
    "\n",
    "img_orig = plt.imread('./datasets/monet2photo/testB/2015-04-25 14:21:17.jpg')\n",
    "img_monet = plt.imread('./results/monet_forward/test_latest/2015-04-25 14:21:17_fake.png')\n",
    "img_vangogh = plt.imread('./results/vangogh_forward/test_latest/2015-04-25 14:21:17_fake.png')\n",
    "img_cezanne = plt.imread('./results/cezanne_forward/test_latest/2015-04-25 14:21:17_fake.png')\n",
    "img_ukiyoe = plt.imread('./results/ukiyoe_forward/test_latest/2015-04-25 14:21:17_fake.png')\n",
    "\n",
    "plt.subplot(5,5,16)\n",
    "plt.imshow(img_orig)\n",
    "plt.subplot(5,5,17)\n",
    "plt.imshow(img_monet)\n",
    "plt.subplot(5,5,18)\n",
    "plt.imshow(img_vangogh)\n",
    "plt.subplot(5,5,19)\n",
    "plt.imshow(img_cezanne)\n",
    "plt.subplot(5,5,20)\n",
    "plt.imshow(img_ukiyoe)\n",
    "\n"
   ]
  },
  {
   "cell_type": "code",
   "execution_count": null,
   "metadata": {},
   "outputs": [],
   "source": [
    "img_orig = plt.imread('./results/monet_cycle_gan/test_latest/00010_real_B.png')\n",
    "img_forward = plt.imread('./results/monet_cycle_gan/test_latest/00010_fake_A.png')\n",
    "img_inverse = plt.imread('./results/monet_cycle_gan/test_latest/00010_rec_B.png')\n",
    "\n",
    "plt.subplot(1,3,1)\n",
    "plt.imshow(img_orig)\n",
    "plt.gca().set_title('input')\n",
    "plt.subplot(1,3,2)\n",
    "plt.imshow(img_forward)\n",
    "plt.gca().set_title('G(X)')\n",
    "plt.subplot(1,3,3)\n",
    "plt.imshow(img_inverse)\n",
    "plt.gca().set_title('F(G(X))')\n",
    "\n",
    "plt.gcf().set_size_inches(15,15)\n",
    "\n"
   ]
  },
  {
   "cell_type": "code",
   "execution_count": null,
   "metadata": {},
   "outputs": [],
   "source": []
  }
 ],
 "metadata": {
  "accelerator": "GPU",
  "colab": {
   "collapsed_sections": [],
   "include_colab_link": true,
   "name": "CycleGAN",
   "provenance": []
  },
  "kernelspec": {
   "display_name": "Python 3",
   "language": "python",
   "name": "python3"
  },
  "language_info": {
   "codemirror_mode": {
    "name": "ipython",
    "version": 3
   },
   "file_extension": ".py",
   "mimetype": "text/x-python",
   "name": "python",
   "nbconvert_exporter": "python",
   "pygments_lexer": "ipython3",
   "version": "3.7.3"
  }
 },
 "nbformat": 4,
 "nbformat_minor": 1
}
